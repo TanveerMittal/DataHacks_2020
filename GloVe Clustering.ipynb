{
 "cells": [
  {
   "cell_type": "code",
   "execution_count": 45,
   "metadata": {},
   "outputs": [],
   "source": [
    "%matplotlib inline\n",
    "import warnings\n",
    "warnings.filterwarnings('ignore')\n",
    "import re\n",
    "from utils import *\n",
    "import pandas as pd\n",
    "import numpy as np\n",
    "from sklearn.decomposition import PCA\n",
    "from sklearn.cluster import KMeans\n",
    "from sklearn.pipeline import Pipeline\n",
    "from sklearn.metrics import homogeneity_score\n",
    "import spacy\n",
    "import seaborn as sns\n",
    "import matplotlib.pyplot as plt"
   ]
  },
  {
   "cell_type": "code",
   "execution_count": 2,
   "metadata": {},
   "outputs": [
    {
     "data": {
      "text/html": [
       "<div>\n",
       "<style scoped>\n",
       "    .dataframe tbody tr th:only-of-type {\n",
       "        vertical-align: middle;\n",
       "    }\n",
       "\n",
       "    .dataframe tbody tr th {\n",
       "        vertical-align: top;\n",
       "    }\n",
       "\n",
       "    .dataframe thead th {\n",
       "        text-align: right;\n",
       "    }\n",
       "</style>\n",
       "<table border=\"1\" class=\"dataframe\">\n",
       "  <thead>\n",
       "    <tr style=\"text-align: right;\">\n",
       "      <th></th>\n",
       "      <th>YearStart</th>\n",
       "      <th>YearEnd</th>\n",
       "      <th>LocationAbbr</th>\n",
       "      <th>LocationDesc</th>\n",
       "      <th>DataSource</th>\n",
       "      <th>Topic</th>\n",
       "      <th>Question</th>\n",
       "      <th>Response</th>\n",
       "      <th>DataValueUnit</th>\n",
       "      <th>DataValueType</th>\n",
       "      <th>...</th>\n",
       "      <th>LocationID</th>\n",
       "      <th>TopicID</th>\n",
       "      <th>QuestionID</th>\n",
       "      <th>DataValueTypeID</th>\n",
       "      <th>StratificationCategoryID1</th>\n",
       "      <th>StratificationID1</th>\n",
       "      <th>StratificationCategoryID2</th>\n",
       "      <th>StratificationID2</th>\n",
       "      <th>StratificationCategoryID3</th>\n",
       "      <th>StratificationID3</th>\n",
       "    </tr>\n",
       "  </thead>\n",
       "  <tbody>\n",
       "    <tr>\n",
       "      <th>0</th>\n",
       "      <td>2015</td>\n",
       "      <td>2015</td>\n",
       "      <td>US</td>\n",
       "      <td>United States</td>\n",
       "      <td>APIS</td>\n",
       "      <td>Alcohol</td>\n",
       "      <td>Amount of alcohol excise tax by beverage type ...</td>\n",
       "      <td>NaN</td>\n",
       "      <td>$</td>\n",
       "      <td>US Dollars</td>\n",
       "      <td>...</td>\n",
       "      <td>59</td>\n",
       "      <td>ALC</td>\n",
       "      <td>ALC8_0_2</td>\n",
       "      <td>USD</td>\n",
       "      <td>OVERALL</td>\n",
       "      <td>OVR</td>\n",
       "      <td>NaN</td>\n",
       "      <td>NaN</td>\n",
       "      <td>NaN</td>\n",
       "      <td>NaN</td>\n",
       "    </tr>\n",
       "    <tr>\n",
       "      <th>1</th>\n",
       "      <td>2012</td>\n",
       "      <td>2012</td>\n",
       "      <td>DC</td>\n",
       "      <td>District of Columbia</td>\n",
       "      <td>APIS</td>\n",
       "      <td>Alcohol</td>\n",
       "      <td>Amount of alcohol excise tax by beverage type ...</td>\n",
       "      <td>NaN</td>\n",
       "      <td>$</td>\n",
       "      <td>US Dollars</td>\n",
       "      <td>...</td>\n",
       "      <td>11</td>\n",
       "      <td>ALC</td>\n",
       "      <td>ALC8_0_1</td>\n",
       "      <td>USD</td>\n",
       "      <td>OVERALL</td>\n",
       "      <td>OVR</td>\n",
       "      <td>NaN</td>\n",
       "      <td>NaN</td>\n",
       "      <td>NaN</td>\n",
       "      <td>NaN</td>\n",
       "    </tr>\n",
       "    <tr>\n",
       "      <th>2</th>\n",
       "      <td>2012</td>\n",
       "      <td>2012</td>\n",
       "      <td>GU</td>\n",
       "      <td>Guam</td>\n",
       "      <td>APIS</td>\n",
       "      <td>Alcohol</td>\n",
       "      <td>Amount of alcohol excise tax by beverage type ...</td>\n",
       "      <td>NaN</td>\n",
       "      <td>$</td>\n",
       "      <td>US Dollars</td>\n",
       "      <td>...</td>\n",
       "      <td>66</td>\n",
       "      <td>ALC</td>\n",
       "      <td>ALC8_0_1</td>\n",
       "      <td>USD</td>\n",
       "      <td>OVERALL</td>\n",
       "      <td>OVR</td>\n",
       "      <td>NaN</td>\n",
       "      <td>NaN</td>\n",
       "      <td>NaN</td>\n",
       "      <td>NaN</td>\n",
       "    </tr>\n",
       "    <tr>\n",
       "      <th>3</th>\n",
       "      <td>2012</td>\n",
       "      <td>2012</td>\n",
       "      <td>PR</td>\n",
       "      <td>Puerto Rico</td>\n",
       "      <td>APIS</td>\n",
       "      <td>Alcohol</td>\n",
       "      <td>Amount of alcohol excise tax by beverage type ...</td>\n",
       "      <td>NaN</td>\n",
       "      <td>$</td>\n",
       "      <td>US Dollars</td>\n",
       "      <td>...</td>\n",
       "      <td>72</td>\n",
       "      <td>ALC</td>\n",
       "      <td>ALC8_0_1</td>\n",
       "      <td>USD</td>\n",
       "      <td>OVERALL</td>\n",
       "      <td>OVR</td>\n",
       "      <td>NaN</td>\n",
       "      <td>NaN</td>\n",
       "      <td>NaN</td>\n",
       "      <td>NaN</td>\n",
       "    </tr>\n",
       "    <tr>\n",
       "      <th>4</th>\n",
       "      <td>2012</td>\n",
       "      <td>2012</td>\n",
       "      <td>US</td>\n",
       "      <td>United States</td>\n",
       "      <td>APIS</td>\n",
       "      <td>Alcohol</td>\n",
       "      <td>Amount of alcohol excise tax by beverage type ...</td>\n",
       "      <td>NaN</td>\n",
       "      <td>$</td>\n",
       "      <td>US Dollars</td>\n",
       "      <td>...</td>\n",
       "      <td>59</td>\n",
       "      <td>ALC</td>\n",
       "      <td>ALC8_0_1</td>\n",
       "      <td>USD</td>\n",
       "      <td>OVERALL</td>\n",
       "      <td>OVR</td>\n",
       "      <td>NaN</td>\n",
       "      <td>NaN</td>\n",
       "      <td>NaN</td>\n",
       "      <td>NaN</td>\n",
       "    </tr>\n",
       "  </tbody>\n",
       "</table>\n",
       "<p>5 rows × 34 columns</p>\n",
       "</div>"
      ],
      "text/plain": [
       "   YearStart  YearEnd LocationAbbr          LocationDesc DataSource    Topic  \\\n",
       "0       2015     2015           US         United States       APIS  Alcohol   \n",
       "1       2012     2012           DC  District of Columbia       APIS  Alcohol   \n",
       "2       2012     2012           GU                  Guam       APIS  Alcohol   \n",
       "3       2012     2012           PR           Puerto Rico       APIS  Alcohol   \n",
       "4       2012     2012           US         United States       APIS  Alcohol   \n",
       "\n",
       "                                            Question Response DataValueUnit  \\\n",
       "0  Amount of alcohol excise tax by beverage type ...      NaN             $   \n",
       "1  Amount of alcohol excise tax by beverage type ...      NaN             $   \n",
       "2  Amount of alcohol excise tax by beverage type ...      NaN             $   \n",
       "3  Amount of alcohol excise tax by beverage type ...      NaN             $   \n",
       "4  Amount of alcohol excise tax by beverage type ...      NaN             $   \n",
       "\n",
       "  DataValueType  ... LocationID  TopicID QuestionID DataValueTypeID  \\\n",
       "0    US Dollars  ...         59      ALC   ALC8_0_2             USD   \n",
       "1    US Dollars  ...         11      ALC   ALC8_0_1             USD   \n",
       "2    US Dollars  ...         66      ALC   ALC8_0_1             USD   \n",
       "3    US Dollars  ...         72      ALC   ALC8_0_1             USD   \n",
       "4    US Dollars  ...         59      ALC   ALC8_0_1             USD   \n",
       "\n",
       "   StratificationCategoryID1  StratificationID1 StratificationCategoryID2  \\\n",
       "0                    OVERALL                OVR                       NaN   \n",
       "1                    OVERALL                OVR                       NaN   \n",
       "2                    OVERALL                OVR                       NaN   \n",
       "3                    OVERALL                OVR                       NaN   \n",
       "4                    OVERALL                OVR                       NaN   \n",
       "\n",
       "  StratificationID2 StratificationCategoryID3 StratificationID3  \n",
       "0               NaN                       NaN               NaN  \n",
       "1               NaN                       NaN               NaN  \n",
       "2               NaN                       NaN               NaN  \n",
       "3               NaN                       NaN               NaN  \n",
       "4               NaN                       NaN               NaN  \n",
       "\n",
       "[5 rows x 34 columns]"
      ]
     },
     "execution_count": 2,
     "metadata": {},
     "output_type": "execute_result"
    }
   ],
   "source": [
    "df = pd.read_csv(\"data/U.S._Chronic_Disease_Indicators__CDI_.csv\")\n",
    "df.head()"
   ]
  },
  {
   "cell_type": "markdown",
   "metadata": {},
   "source": [
    "# Keep only the unique questions"
   ]
  },
  {
   "cell_type": "code",
   "execution_count": 4,
   "metadata": {},
   "outputs": [
    {
     "data": {
      "text/html": [
       "<div>\n",
       "<style scoped>\n",
       "    .dataframe tbody tr th:only-of-type {\n",
       "        vertical-align: middle;\n",
       "    }\n",
       "\n",
       "    .dataframe tbody tr th {\n",
       "        vertical-align: top;\n",
       "    }\n",
       "\n",
       "    .dataframe thead th {\n",
       "        text-align: right;\n",
       "    }\n",
       "</style>\n",
       "<table border=\"1\" class=\"dataframe\">\n",
       "  <thead>\n",
       "    <tr style=\"text-align: right;\">\n",
       "      <th></th>\n",
       "      <th>Topic</th>\n",
       "      <th>Question</th>\n",
       "    </tr>\n",
       "  </thead>\n",
       "  <tbody>\n",
       "    <tr>\n",
       "      <th>0</th>\n",
       "      <td>Alcohol</td>\n",
       "      <td>Amount of alcohol excise tax by beverage type ...</td>\n",
       "    </tr>\n",
       "    <tr>\n",
       "      <th>1</th>\n",
       "      <td>Alcohol</td>\n",
       "      <td>Amount of alcohol excise tax by beverage type ...</td>\n",
       "    </tr>\n",
       "    <tr>\n",
       "      <th>2</th>\n",
       "      <td>Alcohol</td>\n",
       "      <td>Amount of alcohol excise tax by beverage type ...</td>\n",
       "    </tr>\n",
       "    <tr>\n",
       "      <th>3</th>\n",
       "      <td>Nutrition, Physical Activity, and Weight Status</td>\n",
       "      <td>Obesity among adults aged &gt;= 18 years</td>\n",
       "    </tr>\n",
       "    <tr>\n",
       "      <th>4</th>\n",
       "      <td>Cardiovascular Disease</td>\n",
       "      <td>Hospitalization for heart failure among Medica...</td>\n",
       "    </tr>\n",
       "  </tbody>\n",
       "</table>\n",
       "</div>"
      ],
      "text/plain": [
       "                                             Topic  \\\n",
       "0                                          Alcohol   \n",
       "1                                          Alcohol   \n",
       "2                                          Alcohol   \n",
       "3  Nutrition, Physical Activity, and Weight Status   \n",
       "4                           Cardiovascular Disease   \n",
       "\n",
       "                                            Question  \n",
       "0  Amount of alcohol excise tax by beverage type ...  \n",
       "1  Amount of alcohol excise tax by beverage type ...  \n",
       "2  Amount of alcohol excise tax by beverage type ...  \n",
       "3              Obesity among adults aged >= 18 years  \n",
       "4  Hospitalization for heart failure among Medica...  "
      ]
     },
     "execution_count": 4,
     "metadata": {},
     "output_type": "execute_result"
    }
   ],
   "source": [
    "df = df[~df.duplicated(\"Question\", keep=\"first\")][[\"Topic\", \"Question\"]].reset_index(drop=True)\n",
    "df.head()"
   ]
  },
  {
   "cell_type": "markdown",
   "metadata": {},
   "source": [
    "# Breakdown of questions' topics"
   ]
  },
  {
   "cell_type": "code",
   "execution_count": 5,
   "metadata": {
    "scrolled": true
   },
   "outputs": [
    {
     "data": {
      "text/plain": [
       "Nutrition, Physical Activity, and Weight Status    37\n",
       "Diabetes                                           20\n",
       "Cancer                                             20\n",
       "Cardiovascular Disease                             18\n",
       "Chronic Obstructive Pulmonary Disease              16\n",
       "Overarching Conditions                             16\n",
       "Tobacco                                            16\n",
       "Alcohol                                            16\n",
       "Arthritis                                          10\n",
       "Asthma                                              9\n",
       "Oral Health                                         9\n",
       "Older Adults                                        4\n",
       "Chronic Kidney Disease                              4\n",
       "Mental Health                                       3\n",
       "Reproductive Health                                 3\n",
       "Immunization                                        1\n",
       "Disability                                          1\n",
       "Name: Topic, dtype: int64"
      ]
     },
     "execution_count": 5,
     "metadata": {},
     "output_type": "execute_result"
    }
   ],
   "source": [
    "topics = df[\"Topic\"].value_counts()\n",
    "topics"
   ]
  },
  {
   "cell_type": "markdown",
   "metadata": {},
   "source": [
    "# Filter out categories with few entries"
   ]
  },
  {
   "cell_type": "code",
   "execution_count": 6,
   "metadata": {},
   "outputs": [
    {
     "data": {
      "text/html": [
       "<div>\n",
       "<style scoped>\n",
       "    .dataframe tbody tr th:only-of-type {\n",
       "        vertical-align: middle;\n",
       "    }\n",
       "\n",
       "    .dataframe tbody tr th {\n",
       "        vertical-align: top;\n",
       "    }\n",
       "\n",
       "    .dataframe thead th {\n",
       "        text-align: right;\n",
       "    }\n",
       "</style>\n",
       "<table border=\"1\" class=\"dataframe\">\n",
       "  <thead>\n",
       "    <tr style=\"text-align: right;\">\n",
       "      <th></th>\n",
       "      <th>Topic</th>\n",
       "      <th>Question</th>\n",
       "    </tr>\n",
       "  </thead>\n",
       "  <tbody>\n",
       "    <tr>\n",
       "      <th>0</th>\n",
       "      <td>Alcohol</td>\n",
       "      <td>Amount of alcohol excise tax by beverage type ...</td>\n",
       "    </tr>\n",
       "    <tr>\n",
       "      <th>1</th>\n",
       "      <td>Alcohol</td>\n",
       "      <td>Amount of alcohol excise tax by beverage type ...</td>\n",
       "    </tr>\n",
       "    <tr>\n",
       "      <th>2</th>\n",
       "      <td>Alcohol</td>\n",
       "      <td>Amount of alcohol excise tax by beverage type ...</td>\n",
       "    </tr>\n",
       "    <tr>\n",
       "      <th>3</th>\n",
       "      <td>Nutrition, Physical Activity, and Weight Status</td>\n",
       "      <td>Obesity among adults aged &gt;= 18 years</td>\n",
       "    </tr>\n",
       "    <tr>\n",
       "      <th>4</th>\n",
       "      <td>Cardiovascular Disease</td>\n",
       "      <td>Hospitalization for heart failure among Medica...</td>\n",
       "    </tr>\n",
       "  </tbody>\n",
       "</table>\n",
       "</div>"
      ],
      "text/plain": [
       "                                             Topic  \\\n",
       "0                                          Alcohol   \n",
       "1                                          Alcohol   \n",
       "2                                          Alcohol   \n",
       "3  Nutrition, Physical Activity, and Weight Status   \n",
       "4                           Cardiovascular Disease   \n",
       "\n",
       "                                            Question  \n",
       "0  Amount of alcohol excise tax by beverage type ...  \n",
       "1  Amount of alcohol excise tax by beverage type ...  \n",
       "2  Amount of alcohol excise tax by beverage type ...  \n",
       "3              Obesity among adults aged >= 18 years  \n",
       "4  Hospitalization for heart failure among Medica...  "
      ]
     },
     "execution_count": 6,
     "metadata": {},
     "output_type": "execute_result"
    }
   ],
   "source": [
    "df = df[df[\"Topic\"].str.match(\"|\".join(topics.nlargest(11).index.to_list()))].reset_index(drop=True)\n",
    "df.head()"
   ]
  },
  {
   "cell_type": "code",
   "execution_count": 7,
   "metadata": {},
   "outputs": [],
   "source": [
    "_, __, word_to_vec = read_glove_vecs(\"GloVe/glove.6B.200d.txt\")"
   ]
  },
  {
   "cell_type": "code",
   "execution_count": 8,
   "metadata": {},
   "outputs": [],
   "source": [
    "unk = np.zeros(word_to_vec[\"a\"].shape)\n",
    "for emb in word_to_vec.values():\n",
    "    unk += emb\n",
    "unk = unk / len(word_to_vec)\n",
    "word_to_vec[\"<unk>\"] = unk"
   ]
  },
  {
   "cell_type": "code",
   "execution_count": 12,
   "metadata": {
    "scrolled": true
   },
   "outputs": [],
   "source": [
    "def question_to_vec(question):\n",
    "    split = lambda x: re.findall(r\"[\\w']+|[.,!?;]\", x.lower()) if x is not None else []\n",
    "    embedding = np.zeros(word_to_vec[\"a\"].shape)\n",
    "    words = split(question)\n",
    "    for word in words:\n",
    "        if word in word_to_vec:\n",
    "            embedding += word_to_vec[word]\n",
    "        else:\n",
    "            embedding += word_to_vec[\"<unk>\"]\n",
    "    return embedding/len(words)\n",
    "embeddings = df[\"Question\"].apply(question_to_vec).to_list()"
   ]
  },
  {
   "cell_type": "code",
   "execution_count": 13,
   "metadata": {},
   "outputs": [
    {
     "data": {
      "text/plain": [
       "(187, 2)"
      ]
     },
     "execution_count": 13,
     "metadata": {},
     "output_type": "execute_result"
    }
   ],
   "source": [
    "pca_2d = PCA(n_components=2)\n",
    "coords = pca_2d.fit_transform(embeddings)\n",
    "coords.shape"
   ]
  },
  {
   "cell_type": "code",
   "execution_count": 14,
   "metadata": {},
   "outputs": [
    {
     "data": {
      "text/plain": [
       "<matplotlib.axes._subplots.AxesSubplot at 0x1e7806b7198>"
      ]
     },
     "execution_count": 14,
     "metadata": {},
     "output_type": "execute_result"
    },
    {
     "data": {
      "image/png": "[encoded data removed]",
      "text/plain": [
       "<Figure size 1440x720 with 1 Axes>"
      ]
     },
     "metadata": {
      "needs_background": "light"
     },
     "output_type": "display_data"
    }
   ],
   "source": [
    "fig = plt.figure(figsize=(20, 10))\n",
    "fig.suptitle(\"Embeddings of Questions by Topic\", fontsize=28)\n",
    "sns.scatterplot(coords[:,0], coords[:,1], hue=df[\"Topic\"], s=50)"
   ]
  },
  {
   "cell_type": "code",
   "execution_count": 15,
   "metadata": {},
   "outputs": [
    {
     "data": {
      "text/plain": [
       "PCA(copy=True, iterated_power='auto', n_components=25, random_state=None,\n",
       "    svd_solver='auto', tol=0.0, whiten=False)"
      ]
     },
     "execution_count": 15,
     "metadata": {},
     "output_type": "execute_result"
    }
   ],
   "source": [
    "pca = PCA(n_components=25)\n",
    "pca.fit(embeddings)"
   ]
  },
  {
   "cell_type": "code",
   "execution_count": 16,
   "metadata": {},
   "outputs": [
    {
     "data": {
      "text/plain": [
       "Text(0, 0.5, 'variance')"
      ]
     },
     "execution_count": 16,
     "metadata": {},
     "output_type": "execute_result"
    },
    {
     "data": {
      "image/png": "[encoded data removed]",
      "text/plain": [
       "<Figure size 1440x720 with 1 Axes>"
      ]
     },
     "metadata": {
      "needs_background": "light"
     },
     "output_type": "display_data"
    }
   ],
   "source": [
    "features = range(pca.n_components_)\n",
    "plt.figure(figsize=(20, 10))\n",
    "plt.bar(features, pca.explained_variance_)\n",
    "plt.xticks(features)\n",
    "plt.xlabel('PCA feature')\n",
    "plt.ylabel('variance')"
   ]
  },
  {
   "cell_type": "code",
   "execution_count": 35,
   "metadata": {},
   "outputs": [
    {
     "data": {
      "text/html": [
       "<div>\n",
       "<style scoped>\n",
       "    .dataframe tbody tr th:only-of-type {\n",
       "        vertical-align: middle;\n",
       "    }\n",
       "\n",
       "    .dataframe tbody tr th {\n",
       "        vertical-align: top;\n",
       "    }\n",
       "\n",
       "    .dataframe thead th {\n",
       "        text-align: right;\n",
       "    }\n",
       "</style>\n",
       "<table border=\"1\" class=\"dataframe\">\n",
       "  <thead>\n",
       "    <tr style=\"text-align: right;\">\n",
       "      <th></th>\n",
       "      <th># of components</th>\n",
       "      <th>Inertia</th>\n",
       "    </tr>\n",
       "  </thead>\n",
       "  <tbody>\n",
       "  </tbody>\n",
       "</table>\n",
       "</div>"
      ],
      "text/plain": [
       "Empty DataFrame\n",
       "Columns: [# of components, Inertia]\n",
       "Index: []"
      ]
     },
     "execution_count": 35,
     "metadata": {},
     "output_type": "execute_result"
    }
   ],
   "source": []
  },
  {
   "cell_type": "code",
   "execution_count": 51,
   "metadata": {},
   "outputs": [],
   "source": [
    "distribution = []\n",
    "for j in range(100):\n",
    "    avg_params \n",
    "    params = pd.DataFrame(columns=[\"# of components\", \"Inertia\", \"Homogeneity Score\"])\n",
    "    for i in range(1, 26):\n",
    "        pca = PCA(n_components=i)\n",
    "        kmeans = KMeans(n_clusters=11)\n",
    "        steps = [(\"pca\", pca), (\"kmeans\", kmeans)]\n",
    "        pipeline = Pipeline(steps)\n",
    "        pipeline.fit(embeddings)\n",
    "        params.loc[i-1] = [i, kmeans.inertia_, homogeneity_score(df[\"Topic\"], pipeline.predict(embeddings))]\n",
    "    distribution.append(params[\"Homogeneity Score\"].idxmax())"
   ]
  },
  {
   "cell_type": "code",
   "execution_count": 59,
   "metadata": {},
   "outputs": [
    {
     "data": {
      "text/plain": [
       "(array([ 6.,  9.,  5.,  9., 10., 14., 11., 15., 10., 11.]),\n",
       " array([ 5. ,  6.9,  8.8, 10.7, 12.6, 14.5, 16.4, 18.3, 20.2, 22.1, 24. ]),\n",
       " <a list of 10 Patch objects>)"
      ]
     },
     "execution_count": 59,
     "metadata": {},
     "output_type": "execute_result"
    },
    {
     "data": {
      "image/png": "[encoded data removed]",
      "text/plain": [
       "<Figure size 432x288 with 1 Axes>"
      ]
     },
     "metadata": {
      "needs_background": "light"
     },
     "output_type": "display_data"
    }
   ],
   "source": [
    "plt.xticks(range(5, 25))\n",
    "plt.hist(distribution)"
   ]
  },
  {
   "cell_type": "code",
   "execution_count": 43,
   "metadata": {},
   "outputs": [
    {
     "data": {
      "text/plain": [
       "Pipeline(memory=None,\n",
       "         steps=[('pca',\n",
       "                 PCA(copy=True, iterated_power='auto', n_components=1,\n",
       "                     random_state=None, svd_solver='auto', tol=0.0,\n",
       "                     whiten=False)),\n",
       "                ('kmeans',\n",
       "                 KMeans(algorithm='auto', copy_x=True, init='k-means++',\n",
       "                        max_iter=300, n_clusters=11, n_init=10, n_jobs=None,\n",
       "                        precompute_distances='auto', random_state=None,\n",
       "                        tol=0.0001, verbose=0))],\n",
       "         verbose=False)"
      ]
     },
     "execution_count": 43,
     "metadata": {},
     "output_type": "execute_result"
    }
   ],
   "source": [
    "pca = PCA(n_components=1)\n",
    "kmeans = KMeans(n_clusters=11)\n",
    "steps = [(\"pca\", pca), (\"kmeans\", kmeans)]\n",
    "pipeline = Pipeline(steps)\n",
    "pipeline.fit(embeddings)"
   ]
  },
  {
   "cell_type": "code",
   "execution_count": 44,
   "metadata": {},
   "outputs": [
    {
     "data": {
      "text/html": [
       "<div>\n",
       "<style scoped>\n",
       "    .dataframe tbody tr th:only-of-type {\n",
       "        vertical-align: middle;\n",
       "    }\n",
       "\n",
       "    .dataframe tbody tr th {\n",
       "        vertical-align: top;\n",
       "    }\n",
       "\n",
       "    .dataframe thead th {\n",
       "        text-align: right;\n",
       "    }\n",
       "</style>\n",
       "<table border=\"1\" class=\"dataframe\">\n",
       "  <thead>\n",
       "    <tr style=\"text-align: right;\">\n",
       "      <th></th>\n",
       "      <th>Topic</th>\n",
       "      <th>Question</th>\n",
       "      <th>cluster</th>\n",
       "    </tr>\n",
       "  </thead>\n",
       "  <tbody>\n",
       "    <tr>\n",
       "      <th>0</th>\n",
       "      <td>Alcohol</td>\n",
       "      <td>Amount of alcohol excise tax by beverage type ...</td>\n",
       "      <td>1</td>\n",
       "    </tr>\n",
       "    <tr>\n",
       "      <th>1</th>\n",
       "      <td>Alcohol</td>\n",
       "      <td>Amount of alcohol excise tax by beverage type ...</td>\n",
       "      <td>5</td>\n",
       "    </tr>\n",
       "    <tr>\n",
       "      <th>2</th>\n",
       "      <td>Alcohol</td>\n",
       "      <td>Amount of alcohol excise tax by beverage type ...</td>\n",
       "      <td>1</td>\n",
       "    </tr>\n",
       "    <tr>\n",
       "      <th>3</th>\n",
       "      <td>Nutrition, Physical Activity, and Weight Status</td>\n",
       "      <td>Obesity among adults aged &gt;= 18 years</td>\n",
       "      <td>0</td>\n",
       "    </tr>\n",
       "    <tr>\n",
       "      <th>4</th>\n",
       "      <td>Cardiovascular Disease</td>\n",
       "      <td>Hospitalization for heart failure among Medica...</td>\n",
       "      <td>0</td>\n",
       "    </tr>\n",
       "    <tr>\n",
       "      <th>...</th>\n",
       "      <td>...</td>\n",
       "      <td>...</td>\n",
       "      <td>...</td>\n",
       "    </tr>\n",
       "    <tr>\n",
       "      <th>182</th>\n",
       "      <td>Nutrition, Physical Activity, and Weight Status</td>\n",
       "      <td>Farmers markets that accept Women and Infant C...</td>\n",
       "      <td>1</td>\n",
       "    </tr>\n",
       "    <tr>\n",
       "      <th>183</th>\n",
       "      <td>Oral Health</td>\n",
       "      <td>Population served by community water systems t...</td>\n",
       "      <td>1</td>\n",
       "    </tr>\n",
       "    <tr>\n",
       "      <th>184</th>\n",
       "      <td>Nutrition, Physical Activity, and Weight Status</td>\n",
       "      <td>Presence of regulations pertaining to serving ...</td>\n",
       "      <td>5</td>\n",
       "    </tr>\n",
       "    <tr>\n",
       "      <th>185</th>\n",
       "      <td>Oral Health</td>\n",
       "      <td>Dental visits among children and adolescents a...</td>\n",
       "      <td>1</td>\n",
       "    </tr>\n",
       "    <tr>\n",
       "      <th>186</th>\n",
       "      <td>Overarching Conditions</td>\n",
       "      <td>Poverty among women aged 18-44 years</td>\n",
       "      <td>1</td>\n",
       "    </tr>\n",
       "  </tbody>\n",
       "</table>\n",
       "<p>187 rows × 3 columns</p>\n",
       "</div>"
      ],
      "text/plain": [
       "                                               Topic  \\\n",
       "0                                            Alcohol   \n",
       "1                                            Alcohol   \n",
       "2                                            Alcohol   \n",
       "3    Nutrition, Physical Activity, and Weight Status   \n",
       "4                             Cardiovascular Disease   \n",
       "..                                               ...   \n",
       "182  Nutrition, Physical Activity, and Weight Status   \n",
       "183                                      Oral Health   \n",
       "184  Nutrition, Physical Activity, and Weight Status   \n",
       "185                                      Oral Health   \n",
       "186                           Overarching Conditions   \n",
       "\n",
       "                                              Question  cluster  \n",
       "0    Amount of alcohol excise tax by beverage type ...        1  \n",
       "1    Amount of alcohol excise tax by beverage type ...        5  \n",
       "2    Amount of alcohol excise tax by beverage type ...        1  \n",
       "3                Obesity among adults aged >= 18 years        0  \n",
       "4    Hospitalization for heart failure among Medica...        0  \n",
       "..                                                 ...      ...  \n",
       "182  Farmers markets that accept Women and Infant C...        1  \n",
       "183  Population served by community water systems t...        1  \n",
       "184  Presence of regulations pertaining to serving ...        5  \n",
       "185  Dental visits among children and adolescents a...        1  \n",
       "186               Poverty among women aged 18-44 years        1  \n",
       "\n",
       "[187 rows x 3 columns]"
      ]
     },
     "execution_count": 44,
     "metadata": {},
     "output_type": "execute_result"
    }
   ],
   "source": [
    "df[\"cluster\"] = pipeline.predict(embeddings)\n",
    "df"
   ]
  },
  {
   "cell_type": "code",
   "execution_count": null,
   "metadata": {},
   "outputs": [],
   "source": []
  }
 ],
 "metadata": {
  "kernelspec": {
   "display_name": "Python 3",
   "language": "python",
   "name": "python3"
  },
  "language_info": {
   "codemirror_mode": {
    "name": "ipython",
    "version": 3
   },
   "file_extension": ".py",
   "mimetype": "text/x-python",
   "name": "python",
   "nbconvert_exporter": "python",
   "pygments_lexer": "ipython3",
   "version": "3.6.5"
  }
 },
 "nbformat": 4,
 "nbformat_minor": 4
}
